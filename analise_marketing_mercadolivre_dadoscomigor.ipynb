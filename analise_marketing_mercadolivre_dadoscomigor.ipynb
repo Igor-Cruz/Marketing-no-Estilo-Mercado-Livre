{
  "nbformat": 4,
  "nbformat_minor": 0,
  "metadata": {
    "colab": {
      "provenance": [],
      "authorship_tag": "ABX9TyPGbW+mptm/WFDKxj5bI4AY",
      "include_colab_link": true
    },
    "kernelspec": {
      "name": "python3",
      "display_name": "Python 3"
    },
    "language_info": {
      "name": "python"
    }
  },
  "cells": [
    {
      "cell_type": "markdown",
      "metadata": {
        "id": "view-in-github",
        "colab_type": "text"
      },
      "source": [
        "<a href=\"https://colab.research.google.com/github/Igor-Cruz/Marketing-no-Estilo-Mercado-Livre/blob/main/analise_marketing_mercadolivre_dadoscomigor.ipynb\" target=\"_parent\"><img src=\"https://colab.research.google.com/assets/colab-badge.svg\" alt=\"Open In Colab\"/></a>"
      ]
    },
    {
      "cell_type": "code",
      "execution_count": null,
      "metadata": {
        "id": "O1vm_AoYnwDS"
      },
      "outputs": [],
      "source": [
        "# 📊 Análise de Performance de Campanhas de Marketing - Estilo Mercado Livre\n",
        "\n",
        "import pandas as pd\n",
        "import matplotlib.pyplot as plt\n",
        "import seaborn as sns\n",
        "\n",
        "# Simulação de dados fictícios de campanhas\n",
        "campanhas = pd.DataFrame({\n",
        "    'Campanha': ['Google Ads', 'Facebook Ads', 'Email Marketing', 'Instagram Ads'],\n",
        "    'Investimento (R$)': [5000, 3000, 1000, 2500],\n",
        "    'Cliques': [10000, 7500, 2000, 4000],\n",
        "    'Conversoes': [400, 300, 80, 120],\n",
        "    'Receita Gerada (R$)': [20000, 12000, 3500, 6000]\n",
        "})\n",
        "\n",
        "# Cálculo de KPIs\n",
        "campanhas['CPC (R$)'] = campanhas['Investimento (R$)'] / campanhas['Cliques']\n",
        "campanhas['CPA (R$)'] = campanhas['Investimento (R$)'] / campanhas['Conversoes']\n",
        "campanhas['ROI'] = (campanhas['Receita Gerada (R$)'] - campanhas['Investimento (R$)']) / campanhas['Investimento (R$)']\n",
        "\n",
        "# Exibir a tabela com KPIs\n",
        "print(campanhas)\n",
        "\n",
        "# Gráfico ROI por campanha\n",
        "plt.figure(figsize=(10,6))\n",
        "sns.barplot(data=campanhas, x='Campanha', y='ROI')\n",
        "plt.title('ROI por Campanha')\n",
        "plt.axhline(0, color='red', linestyle='--')\n",
        "plt.tight_layout()\n",
        "plt.show()\n",
        "\n",
        "# Gráfico CPA por campanha\n",
        "plt.figure(figsize=(10,6))\n",
        "sns.barplot(data=campanhas, x='Campanha', y='CPA (R$)', palette='Blues_d')\n",
        "plt.title('CPA por Campanha')\n",
        "plt.tight_layout()\n",
        "plt.show()\n",
        "\n",
        "# Insights\n",
        "print(\"\\n🧠 Insights Iniciais:\")\n",
        "print(\"- Google Ads apresentou o melhor ROI.\")\n",
        "print(\"- Email Marketing tem o menor CPA.\")\n",
        "print(\"- Instagram Ads apresenta baixo desempenho e pode ser revisto.\")\n",
        "print(\"- Realocar investimento pode melhorar os resultados totais.\")\n"
      ]
    },
    {
      "cell_type": "code",
      "source": [],
      "metadata": {
        "id": "1LvxSeSJn8pU"
      },
      "execution_count": null,
      "outputs": []
    }
  ]
}